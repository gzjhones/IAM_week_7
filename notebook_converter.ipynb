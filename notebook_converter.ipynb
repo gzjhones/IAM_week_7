{
 "cells": [
  {
   "cell_type": "code",
   "execution_count": null,
   "id": "9610fde7",
   "metadata": {},
   "outputs": [],
   "source": [
    "# Ejecutar este notebook en google colab debido a la especificidad de dependencias\n",
    "\n",
    "!pip install ultralytics\n",
    "\n",
    "from ultralytics import YOLO\n",
    "\n",
    "model = YOLO('./runs/detect/train3/weights/best.pt')\n",
    "\n",
    "model.export(format='tflite', imgsz=640)\n",
    "print(\"Exportación Float32 completada\")\n",
    "\n",
    "model.export(format='tflite', imgsz=640, int8=True)\n",
    "print(\"Exportación Int8 completada\")"
   ]
  },
  {
   "cell_type": "code",
   "execution_count": null,
   "id": "c39cbc1f",
   "metadata": {},
   "outputs": [],
   "source": [
    "print(model.names)"
   ]
  },
  {
   "cell_type": "code",
   "execution_count": null,
   "id": "7ffb324c",
   "metadata": {},
   "outputs": [],
   "source": [
    "import tensorflow as tf\n",
    "\n",
    "# Cargar el modelo\n",
    "interpreter = tf.lite.Interpreter(model_path=\"./best_2_saved_model/best_2_int8.tflite\")\n",
    "interpreter.allocate_tensors()\n",
    "\n",
    "# Detalles\n",
    "input_details = interpreter.get_input_details()\n",
    "output_details = interpreter.get_output_details()\n",
    "\n",
    "print(\"=== INPUT ===\")\n",
    "print(f\"Shape: {input_details[0]['shape']}\")\n",
    "print(f\"Type: {input_details[0]['dtype']}\")\n",
    "\n",
    "print(\"\\n=== OUTPUT ===\")\n",
    "print(f\"Shape: {output_details[0]['shape']}\")\n",
    "print(f\"Type: {output_details[0]['dtype']}\")"
   ]
  }
 ],
 "metadata": {
  "kernelspec": {
   "display_name": "yolo_converter",
   "language": "python",
   "name": "python3"
  },
  "language_info": {
   "codemirror_mode": {
    "name": "ipython",
    "version": 3
   },
   "file_extension": ".py",
   "mimetype": "text/x-python",
   "name": "python",
   "nbconvert_exporter": "python",
   "pygments_lexer": "ipython3",
   "version": "3.9.23"
  }
 },
 "nbformat": 4,
 "nbformat_minor": 5
}
