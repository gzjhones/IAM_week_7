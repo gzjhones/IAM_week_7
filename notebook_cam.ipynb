{
 "cells": [
  {
   "cell_type": "code",
   "execution_count": null,
   "id": "53fc774a",
   "metadata": {},
   "outputs": [],
   "source": [
    "from ultralytics import YOLO\n",
    "import cv2\n",
    "\n",
    "model = YOLO('./runs/detect/train/weights/best.pt')\n",
    "\n",
    "cap = cv2.VideoCapture(0)\n",
    "\n",
    "# Verificar si la cámara se abrió correctamente\n",
    "if not cap.isOpened():\n",
    "    print(\"Error: No se pudo abrir la cámara\")\n",
    "    exit()\n",
    "\n",
    "print(\"Cámara abierta correctamente\")\n",
    "print(\"Presiona 'ESC' para salir\")\n",
    "\n",
    "while True:\n",
    "    ret, frame = cap.read()\n",
    "    if not ret:\n",
    "        print(\"Error: No se pudo leer el frame\")\n",
    "        break\n",
    "    \n",
    "    # Hacer detección con el modelo entrenado\n",
    "    results = model(frame, conf=0.5)  # Ajusta confidence según necesites\n",
    "    \n",
    "    # Dibujar las detecciones en el frame\n",
    "    annotated_frame = results[0].plot()\n",
    "    \n",
    "    # Mostrar el frame con las detecciones\n",
    "    cv2.imshow('Camera Detection', annotated_frame)\n",
    "    \n",
    "    # Salir con ESC\n",
    "    key = cv2.waitKey(1) & 0xFF\n",
    "    if key == 27:  # ESC key\n",
    "        break\n",
    "\n",
    "# Limpiar recursos\n",
    "cap.release()\n",
    "cv2.destroyAllWindows()\n",
    "print(\"Cámara liberada y ventanas cerradas\")"
   ]
  }
 ],
 "metadata": {
  "kernelspec": {
   "display_name": "yolo_2",
   "language": "python",
   "name": "python3"
  },
  "language_info": {
   "codemirror_mode": {
    "name": "ipython",
    "version": 3
   },
   "file_extension": ".py",
   "mimetype": "text/x-python",
   "name": "python",
   "nbconvert_exporter": "python",
   "pygments_lexer": "ipython3",
   "version": "3.9.23"
  }
 },
 "nbformat": 4,
 "nbformat_minor": 5
}
