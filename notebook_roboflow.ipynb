{
 "cells": [
  {
   "cell_type": "code",
   "execution_count": null,
   "id": "23f7475c",
   "metadata": {},
   "outputs": [],
   "source": [
    "# Cambiar el nombre del proyecto xbox-joystick al usado por su cuenta de Roboflow"
   ]
  },
  {
   "cell_type": "code",
   "execution_count": null,
   "id": "58ad3cdd",
   "metadata": {},
   "outputs": [],
   "source": [
    "!pip install roboflow\n",
    "!pip install ultralytics\n",
    "\n",
    "import os\n",
    "import locale\n",
    "from ultralytics import YOLO\n",
    "from roboflow import Roboflow\n",
    "\n",
    "os.environ['PYTHONIOENCODING'] = 'utf-8'\n",
    "os.environ['LC_ALL'] = 'en_US.UTF-8'\n",
    "\n",
    "rf = Roboflow(api_key=\"0000000000000\")\n",
    "project = rf.workspace(\"learning-mdxqc\").project(\"xbox-joystick-evhhj\")\n",
    "version = project.version(2)\n",
    "dataset = version.download(\"yolov11\")"
   ]
  },
  {
   "cell_type": "code",
   "execution_count": null,
   "id": "5e577550",
   "metadata": {},
   "outputs": [],
   "source": [
    "model = YOLO('yolo11s.pt')"
   ]
  },
  {
   "cell_type": "code",
   "execution_count": null,
   "id": "08080719",
   "metadata": {},
   "outputs": [],
   "source": [
    "data_path = 'xbox-joystick/data.yaml'\n",
    "results = model.train(\n",
    "    data=data_path,\n",
    "    epochs=7,\n",
    "    imgsz=640,\n",
    "    patience=5,\n",
    "    plots=False\n",
    ")"
   ]
  },
  {
   "cell_type": "code",
   "execution_count": null,
   "id": "6b2fee62",
   "metadata": {},
   "outputs": [],
   "source": [
    "custom_model = YOLO('./runs/detect/train/weights/best.pt')"
   ]
  },
  {
   "cell_type": "code",
   "execution_count": null,
   "id": "ce84f0ee",
   "metadata": {},
   "outputs": [],
   "source": [
    "res = custom_model('xbox-joystick/test/images/')"
   ]
  },
  {
   "cell_type": "code",
   "execution_count": null,
   "id": "e3b88299",
   "metadata": {},
   "outputs": [],
   "source": [
    "res[6].show()"
   ]
  }
 ],
 "metadata": {
  "kernelspec": {
   "display_name": "yolo_1",
   "language": "python",
   "name": "python3"
  },
  "language_info": {
   "codemirror_mode": {
    "name": "ipython",
    "version": 3
   },
   "file_extension": ".py",
   "mimetype": "text/x-python",
   "name": "python",
   "nbconvert_exporter": "python",
   "pygments_lexer": "ipython3",
   "version": "3.9.23"
  }
 },
 "nbformat": 4,
 "nbformat_minor": 5
}
